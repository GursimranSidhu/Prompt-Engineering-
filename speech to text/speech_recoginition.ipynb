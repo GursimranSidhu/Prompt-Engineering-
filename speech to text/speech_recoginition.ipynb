{
 "cells": [
  {
   "cell_type": "code",
   "execution_count": 4,
   "id": "2379d8c0",
   "metadata": {},
   "outputs": [],
   "source": [
    "!pip install sounddevice soundfile SpeechRecognition google-generativeai --quiet\n"
   ]
  },
  {
   "cell_type": "code",
   "execution_count": 5,
   "id": "65094a6c",
   "metadata": {},
   "outputs": [
    {
     "name": "stdout",
     "output_type": "stream",
     "text": [
      "Collecting sounddevice\n",
      "  Using cached sounddevice-0.5.2-py3-none-macosx_10_6_x86_64.macosx_10_6_universal2.whl.metadata (1.6 kB)\n",
      "Collecting soundfile\n",
      "  Using cached soundfile-0.13.1-py2.py3-none-macosx_11_0_arm64.whl.metadata (16 kB)\n",
      "Requirement already satisfied: SpeechRecognition in /Library/Frameworks/Python.framework/Versions/3.12/lib/python3.12/site-packages (3.14.3)\n",
      "Requirement already satisfied: CFFI>=1.0 in /Library/Frameworks/Python.framework/Versions/3.12/lib/python3.12/site-packages (from sounddevice) (1.16.0)\n",
      "Requirement already satisfied: numpy in /Library/Frameworks/Python.framework/Versions/3.12/lib/python3.12/site-packages (from soundfile) (2.2.3)\n",
      "Requirement already satisfied: typing-extensions in /Library/Frameworks/Python.framework/Versions/3.12/lib/python3.12/site-packages (from SpeechRecognition) (4.12.2)\n",
      "Requirement already satisfied: pycparser in /Library/Frameworks/Python.framework/Versions/3.12/lib/python3.12/site-packages (from CFFI>=1.0->sounddevice) (2.21)\n",
      "Using cached sounddevice-0.5.2-py3-none-macosx_10_6_x86_64.macosx_10_6_universal2.whl (108 kB)\n",
      "Using cached soundfile-0.13.1-py2.py3-none-macosx_11_0_arm64.whl (1.1 MB)\n",
      "Installing collected packages: soundfile, sounddevice\n",
      "\u001b[2K   \u001b[90m━━━━━━━━━━━━━━━━━━━━━━━━━━━━━━━━━━━━━━━━\u001b[0m \u001b[32m2/2\u001b[0m [sounddevice]\n",
      "\u001b[1A\u001b[2KSuccessfully installed sounddevice-0.5.2 soundfile-0.13.1\n",
      "Note: you may need to restart the kernel to use updated packages.\n"
     ]
    }
   ],
   "source": [
    "pip install sounddevice soundfile SpeechRecognition\n"
   ]
  },
  {
   "cell_type": "code",
   "execution_count": 4,
   "id": "e30b0fd2",
   "metadata": {},
   "outputs": [
    {
     "name": "stdout",
     "output_type": "stream",
     "text": [
      "🎤 Recording... Please speak now.\n",
      "✅ Recording complete.\n",
      "📝 You said: hello Google how are you\n"
     ]
    }
   ],
   "source": [
    "import sounddevice as sd\n",
    "import soundfile as sf\n",
    "import speech_recognition as sr\n",
    "import google.generativeai as genai\n",
    "\n",
    "# --- Recording settings ---\n",
    "duration = 5  # seconds\n",
    "samplerate = 16000\n",
    "filename = \"user_input.wav\"\n",
    "\n",
    "print(\"🎤 Recording... Please speak now.\")\n",
    "recording = sd.rec(int(duration * samplerate), samplerate=samplerate, channels=1, dtype='int16')\n",
    "sd.wait()\n",
    "\n",
    "# Save to file\n",
    "sf.write(filename, recording, samplerate)\n",
    "print(\"✅ Recording complete.\")\n",
    "\n",
    "# --- Transcribe the recorded audio ---\n",
    "recognizer = sr.Recognizer()\n",
    "with sr.AudioFile(filename) as source:\n",
    "    audio = recognizer.record(source)\n",
    "\n",
    "try:\n",
    "    text = recognizer.recognize_google(audio)\n",
    "    print(\"📝 You said:\", text)\n",
    "except sr.UnknownValueError:\n",
    "    print(\"❌ Could not understand the audio.\")\n",
    "    text = \"\"\n",
    "except sr.RequestError as e:\n",
    "    print(f\"❌ Error with request: {e}\")\n",
    "    text = \"\"\n"
   ]
  },
  {
   "cell_type": "code",
   "execution_count": null,
   "id": "44b04fea",
   "metadata": {},
   "outputs": [],
   "source": []
  }
 ],
 "metadata": {
  "kernelspec": {
   "display_name": "Python 3",
   "language": "python",
   "name": "python3"
  },
  "language_info": {
   "codemirror_mode": {
    "name": "ipython",
    "version": 3
   },
   "file_extension": ".py",
   "mimetype": "text/x-python",
   "name": "python",
   "nbconvert_exporter": "python",
   "pygments_lexer": "ipython3",
   "version": "3.12.0"
  }
 },
 "nbformat": 4,
 "nbformat_minor": 5
}
