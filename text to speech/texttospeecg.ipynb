{
 "cells": [
  {
   "cell_type": "code",
   "execution_count": 1,
   "id": "61fe4b53",
   "metadata": {},
   "outputs": [
    {
     "name": "stdout",
     "output_type": "stream",
     "text": [
      "❌ Error 401: {\"detail\":{\"status\":\"detected_unusual_activity\",\"message\":\"Unusual activity detected. Free Tier usage disabled. If you are using a proxy/VPN you might need to purchase a Paid Plan to not trigger our abuse detectors. Free Tier only works if users do not abuse it, for example by creating multiple free accounts. If we notice that many people try to abuse it, we will need to reconsider Free Tier altogether. \\nPlease play fair and purchase any Paid Subscription to continue.\"}}\n"
     ]
    }
   ],
   "source": [
    "import requests\n",
    "from IPython.display import Audio, display\n",
    "\n",
    "# Your Eleven Labs API key\n",
    "API_KEY = \"sk_c642f3c2cca9989f1876b061b32343d7035f9017272f9d41\"\n",
    "\n",
    "# Eleven Labs TTS endpoint\n",
    "API_URL = \"https://api.elevenlabs.io/v1/text-to-speech/21m00Tcm4TlvDq8ikWAM\"  # example voice id (Rachel)\n",
    "\n",
    "# Headers for auth and content-type\n",
    "headers = {\n",
    "    \"xi-api-key\": API_KEY,\n",
    "    \"Content-Type\": \"application/json\"\n",
    "}\n",
    "\n",
    "def elevenlabs_tts(text, output_file=\"output.wav\"):\n",
    "    data = {\n",
    "        \"text\": text,\n",
    "        \"voice_settings\": {\n",
    "            \"stability\": 0.75,\n",
    "            \"similarity_boost\": 0.75\n",
    "        }\n",
    "    }\n",
    "    \n",
    "    response = requests.post(API_URL, headers=headers, json=data)\n",
    "    if response.status_code == 200:\n",
    "        with open(output_file, \"wb\") as f:\n",
    "            f.write(response.content)\n",
    "        print(f\"✅ Audio saved to {output_file}\")\n",
    "        display(Audio(output_file))\n",
    "    else:\n",
    "        print(f\"❌ Error {response.status_code}: {response.text}\")\n",
    "\n",
    "# Example usage:\n",
    "sample_text = \"Hello Noor! Tu paagal Hai!.\"\n",
    "elevenlabs_tts(sample_text)\n"
   ]
  },
  {
   "cell_type": "code",
   "execution_count": null,
   "id": "10775a59",
   "metadata": {},
   "outputs": [],
   "source": []
  }
 ],
 "metadata": {
  "kernelspec": {
   "display_name": "Python 3",
   "language": "python",
   "name": "python3"
  },
  "language_info": {
   "codemirror_mode": {
    "name": "ipython",
    "version": 3
   },
   "file_extension": ".py",
   "mimetype": "text/x-python",
   "name": "python",
   "nbconvert_exporter": "python",
   "pygments_lexer": "ipython3",
   "version": "3.12.0"
  }
 },
 "nbformat": 4,
 "nbformat_minor": 5
}
