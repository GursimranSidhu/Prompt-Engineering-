{
 "cells": [
  {
   "cell_type": "code",
   "execution_count": 1,
   "metadata": {},
   "outputs": [
    {
     "name": "stdout",
     "output_type": "stream",
     "text": [
      "Requirement already satisfied: requests in /Library/Frameworks/Python.framework/Versions/3.12/lib/python3.12/site-packages (2.26.0)\n",
      "Requirement already satisfied: urllib3<1.27,>=1.21.1 in /Library/Frameworks/Python.framework/Versions/3.12/lib/python3.12/site-packages (from requests) (1.26.20)\n",
      "Requirement already satisfied: certifi>=2017.4.17 in /Library/Frameworks/Python.framework/Versions/3.12/lib/python3.12/site-packages (from requests) (2024.8.30)\n",
      "Requirement already satisfied: charset-normalizer~=2.0.0 in /Library/Frameworks/Python.framework/Versions/3.12/lib/python3.12/site-packages (from requests) (2.0.12)\n",
      "Requirement already satisfied: idna<4,>=2.5 in /Library/Frameworks/Python.framework/Versions/3.12/lib/python3.12/site-packages (from requests) (3.10)\n",
      "Note: you may need to restart the kernel to use updated packages.\n"
     ]
    }
   ],
   "source": [
    "pip install requests\n"
   ]
  },
  {
   "cell_type": "code",
   "execution_count": 1,
   "metadata": {},
   "outputs": [
    {
     "name": "stderr",
     "output_type": "stream",
     "text": [
      "/Library/Frameworks/Python.framework/Versions/3.12/lib/python3.12/site-packages/requests/__init__.py:102: RequestsDependencyWarning: urllib3 (1.26.20) or chardet (5.2.0)/charset_normalizer (2.0.12) doesn't match a supported version!\n",
      "  warnings.warn(\"urllib3 ({}) or chardet ({})/charset_normalizer ({}) doesn't match a supported \"\n"
     ]
    },
    {
     "name": "stdout",
     "output_type": "stream",
     "text": [
      "❌ Failed with status code 402\n",
      "{\"errors\":[\"You lack sufficient credits to make this request.  Please purchase more credits at https://platform.stability.ai/account/credits and try again.\"],\"id\":\"d4eee573d472f093212b21e47af3119d\",\"name\":\"payment_required\"}\n"
     ]
    }
   ],
   "source": [
    "import requests\n",
    "from PIL import Image\n",
    "from io import BytesIO\n",
    "from IPython.display import display\n",
    "\n",
    "# Replace with your real Stability AI API key\n",
    "API_KEY = \"sk-ljqgIrPmQmtIXcOlH8VzuPnQjUGg7A8whOMzMUf1BTUMQDrf\"\n",
    "\n",
    "def generate_and_show_image(prompt):\n",
    "    response = requests.post(\n",
    "        \"https://api.stability.ai/v2beta/stable-image/generate/ultra\",\n",
    "        headers={\n",
    "            \"Authorization\": f\"Bearer {API_KEY}\",\n",
    "            \"Accept\": \"image/*\",\n",
    "        },\n",
    "        files={\"none\": ''},\n",
    "        data={\n",
    "            \"prompt\": prompt,\n",
    "            \"output_format\": \"webp\",\n",
    "        },\n",
    "    )\n",
    "\n",
    "    if response.status_code == 200:\n",
    "        image = Image.open(BytesIO(response.content))\n",
    "        # Save image locally\n",
    "        image.save(\"output.webp\")\n",
    "        print(\"✅ Image saved as output.webp\")\n",
    "        # Display image inline in the notebook\n",
    "        display(image)\n",
    "    else:\n",
    "        print(f\"❌ Failed with status code {response.status_code}\")\n",
    "        print(response.text)\n",
    "\n",
    "# Take user input and generate image\n",
    "user_prompt = input(\"Enter your image prompt: \")\n",
    "generate_and_show_image(user_prompt)\n"
   ]
  },
  {
   "cell_type": "code",
   "execution_count": null,
   "metadata": {},
   "outputs": [],
   "source": []
  }
 ],
 "metadata": {
  "kernelspec": {
   "display_name": "Python 3",
   "language": "python",
   "name": "python3"
  },
  "language_info": {
   "codemirror_mode": {
    "name": "ipython",
    "version": 3
   },
   "file_extension": ".py",
   "mimetype": "text/x-python",
   "name": "python",
   "nbconvert_exporter": "python",
   "pygments_lexer": "ipython3",
   "version": "3.12.0"
  }
 },
 "nbformat": 4,
 "nbformat_minor": 2
}
